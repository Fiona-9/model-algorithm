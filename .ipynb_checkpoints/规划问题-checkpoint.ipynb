{
 "cells": [
  {
   "cell_type": "markdown",
   "metadata": {},
   "source": [
    "# 规划问题（python求解）\n",
    "## 线性规划：\n",
    "<font size = 5>\n",
    "$$ min~ c^Tx $$\n",
    "$$s.t.\n",
    "\\begin{cases}\n",
    "Aub*x \\leq bub \\\\\n",
    "Aeq*x = beq \\\\\n",
    "lb \\leq x \\leq ub \n",
    "\\end{cases}$$"
   ]
  },
  {
   "cell_type": "markdown",
   "metadata": {},
   "source": [
    "### scipy.optimize"
   ]
  },
  {
   "cell_type": "code",
   "execution_count": null,
   "metadata": {},
   "outputs": [],
   "source": [
    "import numpy as np\n",
    "from scipy import optimize\n",
    "c = np.array([1,2,3,4,5])\n",
    "...\n",
    "res = optimize.linprog((c,A_ub=None,b_ub=None,A_eq=None,b_eq=None,\n",
    "                        bounds=None,method='interior-point',callback=None,options=None,x0=None,))\n",
    "# 最小值\n",
    "print(res.fun)\n",
    "# 最优解\n",
    "print(res.x)"
   ]
  },
  {
   "cell_type": "markdown",
   "metadata": {},
   "source": [
    "### pulp\n",
    "pulp库职业解线性规划"
   ]
  },
  {
   "cell_type": "code",
   "execution_count": 3,
   "metadata": {},
   "outputs": [],
   "source": [
    "import pulp\n",
    "\n",
    "# 系数矩阵\n",
    "a = [[]]\n",
    "# 限制条件\n",
    "b = []\n",
    "# 目标函数的系数\n",
    "c = []\n",
    "# 实例化对象\n",
    "m = pulp.LpProblem(name='NoName', sense=pulp.LpMinimize)\n",
    "x = [pulp.LpVariable(f\"x{i}\",lowBound=0, cat='Continuous','Integer', 'Binary') for i in [1,2,3,4,5]]\n",
    "# 添加目标函数\n",
    "m += pulp.lpDot(c,x)\n",
    "# 添加约束条件\n",
    "for i in range(len(a)):\n",
    "    m += pulp.lpDot(a[i],x) <= b[i]\n",
    "# 解线性规划\n",
    "m.solve\n",
    "# 函数的最值\n",
    "print(pulp.value(m.objective))\n",
    "# 自变量的取值\n",
    "print([pulp.value(var) for var in x])"
   ]
  },
  {
   "cell_type": "markdown",
   "metadata": {},
   "source": [
    "## 整数规划\n",
    "### 分支定界法\n",
    "可用于解纯整数或混合的整数规划问题  \n",
    "以求最小值问题为例  \n",
    "先去掉整数约束的条件，再通过对某一变量进行分支，另一变量再分支...  \n",
    "将不符合条件的解（小于$\\overline z$ 或者大于$\\underline z$）剪枝  \n",
    "在后继问题求解的结果中，$\\overline z$为非整数约束解的最小值，$\\underline z$为有整数约束解的最小值  \n",
    "直到得到整数解"
   ]
  },
  {
   "cell_type": "code",
   "execution_count": null,
   "metadata": {},
   "outputs": [],
   "source": [
    "import math \n",
    "from scipy.optimize import linprog \n",
    "import sys \n",
    "# 定义分支定界算法的函数-----这是一个递归函数！\n",
    "def integerPro(c, A, b, Aeq, beq, t=1.0E-12): \n",
    "    t=1.0E-12\n",
    "    # 实例化非整数约束的线性规划对象\n",
    "    res = linprog(c, A_ub=A, b_ub=b, A_eq=Aeq, b_eq=beq) \n",
    "    # 如果得到的解空间中有变量是小数\n",
    "    if (type(res.x) is float): \n",
    "        # 最优解设为一个很大的数，以进入下面的分支定界过程\n",
    "        bestX = [sys.maxsize]*len(c) \n",
    "    else: \n",
    "        # 解空间全为整数型，直接读取最优解\n",
    "        bestX = res.x \n",
    "    # 计算best value\n",
    "    bestVal = sum([x*y for x,y in zip(c, bestX)]) \n",
    "    if all((x-math.floor(x)<t)or (math.ceil(x)<t)for x in bestX): \n",
    "        return (bestVal, bestX)\n",
    "    else:\n",
    "        # 开始分支定界\n",
    "        # 找出最优值为小数的变量编号，ind为其中最小的编号\n",
    "        ind = [i for i, x in enumerate(bestX) if (x-math.floor(x))>t and (math.ceil(x)-x)>t][0]\n",
    "        # 初始化将要添加的系数向量\n",
    "        newCon1 = [0]*len(A[0]) \n",
    "        # 初始化将要添加的系数向量\n",
    "        newCon2 = [0]*len(A[0])\n",
    "        newCon1[ind] = -1 \n",
    "        newCon2[ind] = 1 \n",
    "        newA1 = A.copy() \n",
    "        newA2 = A.copy() \n",
    "        # 添加分支的约束条件\n",
    "        # 改变系数矩阵A\n",
    "        newA1.append(newCon1) \n",
    "        newA2.append(newCon2) \n",
    "        newB1 = b.copy() \n",
    "        newB2 = b.copy() \n",
    "        # 向约束值矩阵B中添加参数\n",
    "        newB1.append(-math.ceil(bestX[ind])) \n",
    "        newB2.append(math.floor(bestX[ind])) \n",
    "        # 分别计算两个最优化问题的解-----递归\n",
    "        # 定界过程，递归找出最小值\n",
    "        r1 = integerPro(c, newA1, newB1, Aeq, beq) \n",
    "        r2 = integerPro(c, newA2, newB2, Aeq, beq) \n",
    "        if r1[0] < r2[0]:\n",
    "            return r1 \n",
    "        else: \n",
    "            return r2\n",
    "c = [3, 4, 1] \n",
    "A = [[-1, -6, -2], [-2, 0, 0]] \n",
    "b = [-5, -3] \n",
    "Aeq = [[0,0,0]] \n",
    "beq = [0] \n",
    "print(integerPro(c, A, b, Aeq, beq))"
   ]
  },
  {
   "cell_type": "markdown",
   "metadata": {},
   "source": [
    "### 0-1整数规划---穷举法（变量个数小）、过滤隐枚举法\n",
    "引入0-1变量的情况：\n",
    "1. 相互排斥的计划（0-1状态变量）\n",
    "2. 相互排斥的约束条件（引入一个特别大的M）\n",
    "3. 固定成本的问题  \n",
    "\n",
    "隐枚举法步骤（最小值问题）\n",
    "+ 试探性求一个可行解，目标值为*z*\n",
    "* 求最优解时凡是目标值大于*z* 解不必检验是否满足约束条件即可删除，因为它肯定不是最优解，相应增加一个约束条件（目标值上界）\n",
    "+ 由于首先计算目标值以验证过滤条件，故应优先计算目标值 z 大 的组合，这样可提前抬高过滤门槛，以减少计算量。 "
   ]
  },
  {
   "cell_type": "markdown",
   "metadata": {},
   "source": [
    "## 非线性规划\n",
    "### 凸函数\n",
    "cvxpy库\n",
    "### 非凸函数\n",
    "1. 数学求导  \n",
    "2. 神经网络、深度学习（反向传播算法中链式求导过程）  \n",
    "3. scipy.optimize.minimize"
   ]
  },
  {
   "cell_type": "code",
   "execution_count": 13,
   "metadata": {},
   "outputs": [],
   "source": [
    "from scipy import optimize\n",
    "import numpy as np\n",
    "# 此算法得出的为局部最优解\n",
    "# 若要使得到的结果具有普适性，可以在外层写gridsearch算法，或者for循环语句，按不同的初始值（x0）搜索\n",
    "# 选对method很重要\n",
    "res = optimize.minimize(fun,x0,args=(),method=None,jac=None,hess=None,hessp=None,bounds=None,\n",
    "                      constraints=(),tol=None,callback=None,options=None,)\n",
    "# example 1\n",
    "fun = lambda x: (x[0] - 1)**2 + (x[1] - 2.5)**2\n",
    "cons = ({'type': 'ineq', 'fun': lambda x:  x[0] - 2 * x[1] + 2},\n",
    "        {'type': 'ineq', 'fun': lambda x: -x[0] - 2 * x[1] + 6},\n",
    "        {'type': 'ineq', 'fun': lambda x: -x[0] + 2 * x[1] + 2})\n",
    "bnds = ((0, None), (0, None))\n",
    "res = minimize(fun, (2, 0), method='SLSQP', bounds=bnds,constraints=cons)\n",
    "res.fun\n",
    "res.x\n",
    "res.success\n",
    "# example 2\n",
    "def fun(args):\n",
    "    a,b,c,d = args\n",
    "    v = lambda x : (a+x[0])/(b+x[1])-c*x[0]+d*x[2]\n",
    "    return v\n",
    "def con(args): \n",
    "    # 约束条件 分为eq和ineq \n",
    "    #eq表示函数结果等于0 ；ineq表示表达式大于等于0 \n",
    "    # 当需要大于的约束时，设为 fun >= e(e = 1.0E-12)\n",
    "    x1min,x1max,x2min,x2max,x3min,x3max = args \n",
    "        cons = ({'type':'ineq','fun':lambda x:x[0]-x1min},\n",
    "                {'type':'ineq','fun': lambda x:-x[0]+x1max},\n",
    "                {'type':'ineq','fun': lambda x:x[1]-x2min},\n",
    "                {'type':'ineq','fun': lambda x:-x[1]+x2max},\n",
    "                {'type':'ineq','fun': lambda x:x[2]-x3min},\n",
    "                {'type':'ineq','fun': lambda x:-x[2]+x3max}) \n",
    "        return cons\n",
    "if __name__ == \"__main__\": \n",
    "    #定义常量值 \n",
    "    args = (2,1,3,4) #a,b,c,d \n",
    "    #设置参数范围/约束条件 \n",
    "    args1 = (0.1,0.9,0.1,0.9,0.1,0.9) #x1min, x1max, x2min, x2max ...\n",
    "    cons = con(args1) \n",
    "    #设置初始猜测值 \n",
    "    x0 = np.asarray((0.5,0.5,0.5)) \n",
    "    res = minimize(fun(args),x0, method='SLSQP',constraints=cons) \n",
    "    print(res.fun) \n",
    "    print(res.success) \n",
    "    print(res.x) "
   ]
  },
  {
   "cell_type": "markdown",
   "metadata": {},
   "source": [
    "求解无约束非线性规划的具体算法：\n",
    "+ 一维搜索方法 ：Fibonacci 法 、二次插值法、数学方法（二分法、切线法）\n",
    "+ 解析法：梯度下降、牛顿法、变尺度法（拟牛顿法）\n",
    "+ 直接搜索法\n",
    "\n",
    "有约束的非线性规划：\n",
    "+ 二次规划  \n",
    "      非线性规划的目标函数为自变量x的二次函数，约束条件又全是线性的\n",
    "+ 罚函数法   \n",
    "      罚函数法较为简单，基本思想是将约束最优化问题转化为无约束最优化问题再用为无约束最优化问题的方法求解\n",
    "+ 拉格朗日乘子法  \n",
    "      当使用前面介绍的罚函数法求解约束问题时，为获得足够好的近似解，罚参数需取足够大的值，这将导致增广目标函数的黑森矩阵出现病态，从而导致数值计算上的困难。因此提出拉格朗日乘子法。\n",
    "\n",
    "     [“深入浅出最优化”超链接](https://blog.csdn.net/weixin_43441742/category_9976331.html)"
   ]
  }
 ],
 "metadata": {
  "kernelspec": {
   "display_name": "Python 3",
   "language": "python",
   "name": "python3"
  },
  "language_info": {
   "codemirror_mode": {
    "name": "ipython",
    "version": 3
   },
   "file_extension": ".py",
   "mimetype": "text/x-python",
   "name": "python",
   "nbconvert_exporter": "python",
   "pygments_lexer": "ipython3",
   "version": "3.7.2"
  },
  "toc": {
   "base_numbering": 1,
   "nav_menu": {},
   "number_sections": true,
   "sideBar": false,
   "skip_h1_title": false,
   "title_cell": "Table of Contents",
   "title_sidebar": "Contents",
   "toc_cell": false,
   "toc_position": {
    "height": "362.4px",
    "left": "21px",
    "top": "110.267px",
    "width": "229.8px"
   },
   "toc_section_display": true,
   "toc_window_display": false
  }
 },
 "nbformat": 4,
 "nbformat_minor": 4
}
